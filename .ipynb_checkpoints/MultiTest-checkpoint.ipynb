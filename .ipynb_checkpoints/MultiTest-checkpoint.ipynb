{
 "cells": [
  {
   "cell_type": "markdown",
   "id": "55173d43",
   "metadata": {},
   "source": [
    "# Avoid Multi-Test Leakage"
   ]
  },
  {
   "cell_type": "markdown",
   "id": "4291c6ad",
   "metadata": {},
   "source": [
    "To avoid multi-test leakage, you can modify the code as follows:\n",
    "- Split the data into training and testing sets before oversampling.\n",
    "- Apply oversampling only to the training set.\n",
    "- Use the oversampled training set to train your model and the original testing set to evaluate its performance."
   ]
  },
  {
   "cell_type": "code",
   "execution_count": 12,
   "id": "d350cc88",
   "metadata": {},
   "outputs": [
    {
     "data": {
      "text/plain": [
       "array([0, 1, 0, 0, 0, 0, 1, 1, 1, 1, 0, 0, 1, 0, 1, 1, 1, 1, 0, 1, 0, 0,\n",
       "       1, 0, 0, 0, 1, 0, 1, 1, 0, 1, 0, 1, 0, 0, 0, 0, 0, 1, 0, 0, 0, 0])"
      ]
     },
     "execution_count": 12,
     "metadata": {},
     "output_type": "execute_result"
    }
   ],
   "source": [
    "#Instead of this\n",
    "from sklearn.model_selection import train_test_split\n",
    "from imblearn.over_sampling import SMOTE\n",
    "from sklearn.ensemble import RandomForestClassifier\n",
    "import numpy as np\n",
    "\n",
    "# generate random data\n",
    "n_samples, n_features, n_classes = 200, 10000, 2\n",
    "rng = np.random.RandomState(42)\n",
    "X = rng.standard_normal((n_samples, n_features))\n",
    "y = rng.choice(n_classes, n_samples)\n",
    "\n",
    "# oversampling datasets , new rows are synthesized based on existing rows\n",
    "X_new, y_new = SMOTE().fit_resample(X, y)\n",
    "\n",
    "# splits after over - sampling no longer produce independent train / test data\n",
    "X_train, X_test, y_train, y_test = train_test_split(X_new, y_new, test_size =0.2, random_state =42)\n",
    "rf = RandomForestClassifier().fit(X_train, y_train)\n",
    "rf.predict(X_test)"
   ]
  },
  {
   "cell_type": "markdown",
   "id": "5577ed94",
   "metadata": {},
   "source": [
    "- To avoid multi-test leakage, you should split the data into training and testing sets before performing oversampling."
   ]
  },
  {
   "cell_type": "code",
   "execution_count": 20,
   "id": "e6e9a710",
   "metadata": {},
   "outputs": [],
   "source": [
    "# Do This\n",
    "from sklearn.model_selection import train_test_split\n",
    "from imblearn.over_sampling import SMOTE\n",
    "from sklearn.ensemble import RandomForestClassifier\n",
    "import numpy as np"
   ]
  },
  {
   "cell_type": "code",
   "execution_count": 13,
   "id": "85dca2f8",
   "metadata": {},
   "outputs": [],
   "source": [
    "# generate random data\n",
    "n_samples, n_features, n_classes = 200, 10000, 2\n",
    "rng = np.random.RandomState(42)\n",
    "X = rng.standard_normal((n_samples, n_features))\n",
    "y = rng.choice(n_classes, n_samples)"
   ]
  },
  {
   "cell_type": "code",
   "execution_count": 14,
   "id": "1f6aed65",
   "metadata": {},
   "outputs": [],
   "source": [
    "# split the data into training and testing sets\n",
    "X_train, X_test, y_train, y_test = train_test_split(X, y, test_size=0.2, random_state=42)"
   ]
  },
  {
   "cell_type": "code",
   "execution_count": 15,
   "id": "34cc127c",
   "metadata": {},
   "outputs": [],
   "source": [
    "# perform oversampling only on the training data\n",
    "sm = SMOTE(random_state=42)\n",
    "X_train_resampled, y_train_resampled = sm.fit_resample(X_train, y_train)"
   ]
  },
  {
   "cell_type": "code",
   "execution_count": 16,
   "id": "d1a2963d",
   "metadata": {},
   "outputs": [],
   "source": [
    "# fit a random forest classifier on the oversampled training data\n",
    "rf = RandomForestClassifier().fit(X_train_resampled, y_train_resampled)"
   ]
  },
  {
   "cell_type": "code",
   "execution_count": 17,
   "id": "a6f53229",
   "metadata": {},
   "outputs": [],
   "source": [
    "# evaluate the model on the testing data\n",
    "y_pred = rf.predict(X_test)"
   ]
  },
  {
   "cell_type": "code",
   "execution_count": 18,
   "id": "80497a72",
   "metadata": {},
   "outputs": [
    {
     "name": "stdout",
     "output_type": "stream",
     "text": [
      "[0 0 0 1 1 0 0 1 0 0 0 1 0 0 0 0 0 0 0 1 0 1 0 0 0 1 0 0 0 0 1 1 0 1 0 0 0\n",
      " 0 0 1]\n"
     ]
    }
   ],
   "source": [
    "# Display\n",
    "print(y_pred)"
   ]
  },
  {
   "cell_type": "markdown",
   "id": "3af032f5",
   "metadata": {},
   "source": [
    "By splitting the data into training and testing sets before performing oversampling, we ensure that the test set remains independent of the training set, and therefore we can get a more accurate estimate of the model's performance on new, unseen data."
   ]
  }
 ],
 "metadata": {
  "kernelspec": {
   "display_name": "Python 3 (ipykernel)",
   "language": "python",
   "name": "python3"
  },
  "language_info": {
   "codemirror_mode": {
    "name": "ipython",
    "version": 3
   },
   "file_extension": ".py",
   "mimetype": "text/x-python",
   "name": "python",
   "nbconvert_exporter": "python",
   "pygments_lexer": "ipython3",
   "version": "3.9.13"
  }
 },
 "nbformat": 4,
 "nbformat_minor": 5
}
