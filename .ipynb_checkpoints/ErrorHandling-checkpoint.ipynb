{
 "cells": [
  {
   "cell_type": "markdown",
   "id": "efa89a67",
   "metadata": {},
   "source": [
    "# Avoid not specifying the exception in the 'except' clause"
   ]
  },
  {
   "cell_type": "markdown",
   "id": "190f3133",
   "metadata": {},
   "source": [
    "- Omitting the exception type in the 'except' clause can result in catching unintended exceptions.\n",
    "- This can lead to unexpected behavior or errors."
   ]
  },
  {
   "cell_type": "code",
   "execution_count": 12,
   "id": "de1a1f0b",
   "metadata": {},
   "outputs": [
    {
     "name": "stdout",
     "output_type": "stream",
     "text": [
      "An error has occurred\n"
     ]
    }
   ],
   "source": [
    "# Instead of this\n",
    "try:\n",
    "    result = 1/0\n",
    "except:\n",
    "    print(\"An error has occurred\")"
   ]
  },
  {
   "cell_type": "code",
   "execution_count": 13,
   "id": "2e35efa5",
   "metadata": {},
   "outputs": [
    {
     "name": "stdout",
     "output_type": "stream",
     "text": [
      "Division by zero not allowed\n"
     ]
    }
   ],
   "source": [
    "# Do this\n",
    "try:\n",
    "    result = 1/0\n",
    "except ZeroDivisionError:\n",
    "    print(\"Division by zero not allowed\")"
   ]
  },
  {
   "cell_type": "markdown",
   "id": "bbdceba6",
   "metadata": {},
   "source": [
    "# Avoid using Empty except Blocks"
   ]
  },
  {
   "cell_type": "markdown",
   "id": "99a49e0a",
   "metadata": {},
   "source": [
    "- Empty except blocks can hide errors and make debugging difficult.\n",
    "- As a result, unnoticed errors can lead to troubleshooting becoming more challenging."
   ]
  },
  {
   "cell_type": "code",
   "execution_count": 15,
   "id": "b832fb2f",
   "metadata": {},
   "outputs": [
    {
     "name": "stdout",
     "output_type": "stream",
     "text": [
      "Enter a number: ch\n"
     ]
    }
   ],
   "source": [
    "# Instead of this\n",
    "try:\n",
    "    num = input('Enter a number: ')\n",
    "    num = int(num)\n",
    "except ValueError:\n",
    "    pass"
   ]
  },
  {
   "cell_type": "code",
   "execution_count": 16,
   "id": "7d19c2eb",
   "metadata": {},
   "outputs": [
    {
     "name": "stdout",
     "output_type": "stream",
     "text": [
      "Enter a number: ch\n",
      "Invalid input. Please enter a valid integer.\n"
     ]
    }
   ],
   "source": [
    "# Do this\n",
    "try:\n",
    "    num = input('Enter a number: ')\n",
    "    num = int(num)\n",
    "except ValueError:\n",
    "    print('Invalid input. Please enter a valid integer.')"
   ]
  }
 ],
 "metadata": {
  "kernelspec": {
   "display_name": "Python 3 (ipykernel)",
   "language": "python",
   "name": "python3"
  },
  "language_info": {
   "codemirror_mode": {
    "name": "ipython",
    "version": 3
   },
   "file_extension": ".py",
   "mimetype": "text/x-python",
   "name": "python",
   "nbconvert_exporter": "python",
   "pygments_lexer": "ipython3",
   "version": "3.9.13"
  }
 },
 "nbformat": 4,
 "nbformat_minor": 5
}
