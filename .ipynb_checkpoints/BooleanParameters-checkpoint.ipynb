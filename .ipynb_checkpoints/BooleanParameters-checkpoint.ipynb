{
 "cells": [
  {
   "cell_type": "markdown",
   "id": "7de7264c",
   "metadata": {},
   "source": [
    "# Avoid Passing Booleans to Functions"
   ]
  },
  {
   "cell_type": "code",
   "execution_count": 4,
   "id": "6161f011",
   "metadata": {},
   "outputs": [],
   "source": [
    "# Instead of this\n",
    "def print_employee_data(employee, verbose=False):\n",
    "    if verbose:\n",
    "        print(\"Employee name: \", employee['name'])\n",
    "        print(\"Employee age: \", employee['age'])\n",
    "        print(\"Employee salary: \", employee['salary'])\n",
    "    else:\n",
    "        print(\"Employee name: \", employee['name'])"
   ]
  },
  {
   "cell_type": "markdown",
   "id": "7419840e",
   "metadata": {},
   "source": [
    "- The print_employee_data() function takes a Boolean argument named verbose. If verbose is set to True, the function will display all employee data (name, age, and salary), otherwise it will display only the employee's name. This implementation is bad because it makes the code harder to read and understand, and it can cause problems if the user forgets to add the verbose argument when calling the function."
   ]
  },
  {
   "cell_type": "code",
   "execution_count": 2,
   "id": "e79eee9d",
   "metadata": {},
   "outputs": [],
   "source": [
    "# Do this\n",
    "def print_employee_name(employee):\n",
    "    print(\"Employee name: \", employee['name'])"
   ]
  },
  {
   "cell_type": "code",
   "execution_count": 3,
   "id": "fa9a62ab",
   "metadata": {},
   "outputs": [],
   "source": [
    "def print_employee_data(employee):\n",
    "    print(\"Employee name: \", employee['name'])\n",
    "    print(\"Employee age: \", employee['age'])\n",
    "    print(\"Employee salary: \", employee['salary'])"
   ]
  }
 ],
 "metadata": {
  "kernelspec": {
   "display_name": "Python 3 (ipykernel)",
   "language": "python",
   "name": "python3"
  },
  "language_info": {
   "codemirror_mode": {
    "name": "ipython",
    "version": 3
   },
   "file_extension": ".py",
   "mimetype": "text/x-python",
   "name": "python",
   "nbconvert_exporter": "python",
   "pygments_lexer": "ipython3",
   "version": "3.9.13"
  }
 },
 "nbformat": 4,
 "nbformat_minor": 5
}
