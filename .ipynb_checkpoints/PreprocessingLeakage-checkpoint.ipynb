{
 "cells": [
  {
   "cell_type": "markdown",
   "id": "55173d43",
   "metadata": {},
   "source": [
    "# Avoid Preprocessing Leakage"
   ]
  },
  {
   "cell_type": "markdown",
   "id": "23857352",
   "metadata": {},
   "source": [
    "- Preprocessing leakage can lead to biased performance estimates and overfitting, resulting in inflated accuracy scores during testing.\n",
    "- To avoid preprocessing leakage, it is important to use separate datasets for training, validation, and testing, and to perform all data preprocessing steps on the training data only."
   ]
  },
  {
   "cell_type": "code",
   "execution_count": 18,
   "id": "b88999e0",
   "metadata": {},
   "outputs": [
    {
     "data": {
      "text/plain": [
       "0.76"
      ]
     },
     "execution_count": 18,
     "metadata": {},
     "output_type": "execute_result"
    }
   ],
   "source": [
    "#Instead of this\n",
    "import numpy as np\n",
    "from sklearn.feature_selection import SelectKBest\n",
    "from sklearn.model_selection import train_test_split\n",
    "from sklearn.ensemble import GradientBoostingClassifier\n",
    "from sklearn.metrics import accuracy_score\n",
    "\n",
    "# generate random data\n",
    "n_samples, n_features, n_classes = 200, 10000, 2\n",
    "rng = np.random.RandomState(42)\n",
    "X = rng.standard_normal((n_samples, n_features))\n",
    "y = rng.choice(n_classes, n_samples)\n",
    "\n",
    "# leak test data through feature selection\n",
    "X_selected = SelectKBest(k =25).fit_transform(X , y)\n",
    "\n",
    "X_train , X_test , y_train , y_test = train_test_split(X_selected, y, random_state =42)\n",
    "gbc = GradientBoostingClassifier(random_state =1)\n",
    "gbc.fit(X_train, y_train)\n",
    "\n",
    "y_pred = gbc.predict(X_test)\n",
    "accuracy_score(y_test, y_pred)\n",
    "# expected accuracy ~0.5; reported accuracy 0.76"
   ]
  },
  {
   "cell_type": "code",
   "execution_count": 19,
   "id": "7f9743b7",
   "metadata": {},
   "outputs": [],
   "source": [
    "# Do this\n",
    "import numpy as np\n",
    "from sklearn.model_selection import train_test_split\n",
    "from sklearn.feature_selection import SelectKBest\n",
    "from sklearn.ensemble import GradientBoostingClassifier\n",
    "from sklearn.metrics import accuracy_score"
   ]
  },
  {
   "cell_type": "code",
   "execution_count": 13,
   "id": "8216ade4",
   "metadata": {},
   "outputs": [],
   "source": [
    "# generate random data\n",
    "n_samples, n_features, n_classes = 200, 10000, 2\n",
    "rng = np.random.RandomState(42)\n",
    "X = rng.standard_normal((n_samples, n_features))\n",
    "y = rng.choice(n_classes, n_samples)"
   ]
  },
  {
   "cell_type": "code",
   "execution_count": 14,
   "id": "21bd6798",
   "metadata": {},
   "outputs": [],
   "source": [
    "# split data into training and test sets\n",
    "X_train, X_test, y_train, y_test = train_test_split(X, y, random_state=42)"
   ]
  },
  {
   "cell_type": "code",
   "execution_count": 15,
   "id": "d83c1a11",
   "metadata": {},
   "outputs": [],
   "source": [
    "# select k best features using training data only\n",
    "selector = SelectKBest(k=25)\n",
    "X_train_selected = selector.fit_transform(X_train, y_train)\n",
    "X_test_selected = selector.transform(X_test)"
   ]
  },
  {
   "cell_type": "code",
   "execution_count": 16,
   "id": "ee69c055",
   "metadata": {},
   "outputs": [],
   "source": [
    "# train and evaluate the model on the training and test data\n",
    "gbc = GradientBoostingClassifier(random_state=1)\n",
    "gbc.fit(X_train_selected, y_train)\n",
    "y_train_pred = gbc.predict(X_train_selected)\n",
    "train_accuracy = accuracy_score(y_train, y_train_pred)\n",
    "y_test_pred = gbc.predict(X_test_selected)\n",
    "test_accuracy = accuracy_score(y_test, y_test_pred)"
   ]
  },
  {
   "cell_type": "code",
   "execution_count": 20,
   "id": "099ea1bc",
   "metadata": {},
   "outputs": [
    {
     "name": "stdout",
     "output_type": "stream",
     "text": [
      "Training accuracy: 1.00\n",
      "Test accuracy: 0.46\n"
     ]
    }
   ],
   "source": [
    "# report the accuracy scores\n",
    "print(\"Training accuracy: {:.2f}\".format(train_accuracy))\n",
    "print(\"Test accuracy: {:.2f}\".format(test_accuracy))"
   ]
  }
 ],
 "metadata": {
  "kernelspec": {
   "display_name": "Python 3 (ipykernel)",
   "language": "python",
   "name": "python3"
  },
  "language_info": {
   "codemirror_mode": {
    "name": "ipython",
    "version": 3
   },
   "file_extension": ".py",
   "mimetype": "text/x-python",
   "name": "python",
   "nbconvert_exporter": "python",
   "pygments_lexer": "ipython3",
   "version": "3.9.13"
  }
 },
 "nbformat": 4,
 "nbformat_minor": 5
}
