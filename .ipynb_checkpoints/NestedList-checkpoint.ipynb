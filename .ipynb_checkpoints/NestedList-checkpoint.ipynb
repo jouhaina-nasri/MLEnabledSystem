{
 "cells": [
  {
   "cell_type": "markdown",
   "id": "b33c3b18",
   "metadata": {},
   "source": [
    "# Avoid Using Nested List Comprehensions"
   ]
  },
  {
   "cell_type": "markdown",
   "id": "b93d48b2",
   "metadata": {},
   "source": [
    "- This anti-pattern refers to the use of nested list comprehensions in programming, which can make the code harder to read, understand, and maintain.\n",
    "- Using simpler solutions like loops or separate list comprehensions can make the code more readable and maintainable, as well as easier to modify and debug in the future."
   ]
  },
  {
   "cell_type": "code",
   "execution_count": 1,
   "id": "17b052ee",
   "metadata": {},
   "outputs": [
    {
     "data": {
      "text/plain": [
       "['1', '2', '3', '4', '6', '7', '8', '9']"
      ]
     },
     "execution_count": 1,
     "metadata": {},
     "output_type": "execute_result"
    }
   ],
   "source": [
    "# Instead of this\n",
    "spam = []\n",
    "for number in range(10):\n",
    "    if number % 5 != 0:\n",
    "        spam.append(str(number))\n",
    "spam"
   ]
  },
  {
   "cell_type": "code",
   "execution_count": 2,
   "id": "7df9c5a4",
   "metadata": {},
   "outputs": [
    {
     "data": {
      "text/plain": [
       "['1', '2', '3', '4', '6', '7', '8', '9']"
      ]
     },
     "execution_count": 2,
     "metadata": {},
     "output_type": "execute_result"
    }
   ],
   "source": [
    "# Do this\n",
    "spam = [str(number) for number in range(10) if number % 5 != 0]\n",
    "spam"
   ]
  }
 ],
 "metadata": {
  "kernelspec": {
   "display_name": "Python 3 (ipykernel)",
   "language": "python",
   "name": "python3"
  },
  "language_info": {
   "codemirror_mode": {
    "name": "ipython",
    "version": 3
   },
   "file_extension": ".py",
   "mimetype": "text/x-python",
   "name": "python",
   "nbconvert_exporter": "python",
   "pygments_lexer": "ipython3",
   "version": "3.9.13"
  }
 },
 "nbformat": 4,
 "nbformat_minor": 5
}
