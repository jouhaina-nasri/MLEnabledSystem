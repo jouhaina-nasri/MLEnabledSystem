{
 "cells": [
  {
   "cell_type": "markdown",
   "id": "13f64af1",
   "metadata": {},
   "source": [
    "# Avoid using vague names"
   ]
  },
  {
   "cell_type": "markdown",
   "id": "4be42f2f",
   "metadata": {},
   "source": [
    "- It is a bad practice to use vague names such as x, y, z in your code since they don't give you any information about their roles in the code."
   ]
  },
  {
   "cell_type": "code",
   "execution_count": 2,
   "id": "5ea463ea",
   "metadata": {},
   "outputs": [],
   "source": [
    "# Instead of this\n",
    "x = 10 \n",
    "y = 5 \n",
    "z = x + y  "
   ]
  },
  {
   "cell_type": "code",
   "execution_count": 3,
   "id": "a7234a0c",
   "metadata": {},
   "outputs": [],
   "source": [
    "# Do this\n",
    "num_members: int = 10\n",
    "num_guests: int = 5\n",
    "sum_: int = num_members + num_guests"
   ]
  }
 ],
 "metadata": {
  "kernelspec": {
   "display_name": "Python 3 (ipykernel)",
   "language": "python",
   "name": "python3"
  },
  "language_info": {
   "codemirror_mode": {
    "name": "ipython",
    "version": 3
   },
   "file_extension": ".py",
   "mimetype": "text/x-python",
   "name": "python",
   "nbconvert_exporter": "python",
   "pygments_lexer": "ipython3",
   "version": "3.9.13"
  }
 },
 "nbformat": 4,
 "nbformat_minor": 5
}
