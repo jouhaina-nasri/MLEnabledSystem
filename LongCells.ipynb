{
 "cells": [
  {
   "cell_type": "markdown",
   "id": "899ecd2b",
   "metadata": {},
   "source": [
    "# Avoid using long cells"
   ]
  },
  {
   "cell_type": "markdown",
   "id": "5c0754af",
   "metadata": {},
   "source": [
    "- Long cells can make it harder to navigate and comprehend the code.\n",
    "- Try to keep cell length in Jupyter notebooks to a reasonable size."
   ]
  },
  {
   "cell_type": "code",
   "execution_count": 8,
   "id": "41c41628",
   "metadata": {},
   "outputs": [
    {
     "name": "stdout",
     "output_type": "stream",
     "text": [
      "Unique sepal.length:35\n",
      "Unique sepal.width:23\n",
      "Unique petal.length:43\n",
      "Unique petal.width:22\n",
      "Unique variety:3\n",
      "<class 'pandas.core.frame.DataFrame'>\n",
      "RangeIndex: 150 entries, 0 to 149\n",
      "Data columns (total 5 columns):\n",
      " #   Column        Non-Null Count  Dtype  \n",
      "---  ------        --------------  -----  \n",
      " 0   sepal.length  150 non-null    float64\n",
      " 1   sepal.width   150 non-null    float64\n",
      " 2   petal.length  150 non-null    float64\n",
      " 3   petal.width   150 non-null    float64\n",
      " 4   variety       150 non-null    object \n",
      "dtypes: float64(4), object(1)\n",
      "memory usage: 6.0+ KB\n",
      "<class 'pandas.core.frame.DataFrame'>\n",
      "RangeIndex: 150 entries, 0 to 149\n",
      "Data columns (total 5 columns):\n",
      " #   Column        Non-Null Count  Dtype         \n",
      "---  ------        --------------  -----         \n",
      " 0   sepal.length  150 non-null    float64       \n",
      " 1   sepal.width   150 non-null    float64       \n",
      " 2   petal.length  150 non-null    datetime64[ns]\n",
      " 3   petal.width   150 non-null    float64       \n",
      " 4   variety       150 non-null    object        \n",
      "dtypes: datetime64[ns](1), float64(3), object(1)\n",
      "memory usage: 6.0+ KB\n",
      "None\n",
      "Min Date: 1970-01-01 00:00:00.000000001\n",
      "Max Date: 1970-01-01 00:00:00.000000006\n"
     ]
    }
   ],
   "source": [
    "# Instead of this\n",
    "import pandas as pd\n",
    "\n",
    "file_path = 'iris.csv'\n",
    "worker_df = pd.read_csv(file_path)\n",
    "worker_df.head()\n",
    "\n",
    "for i in list(worker_df.columns):\n",
    "    print(f'Unique {i}:{worker_df[i].nunique()}')\n",
    "\n",
    "worker_df.isnull().sum()\n",
    "\n",
    "worker_df.describe()\n",
    "\n",
    "worker_df.info()\n",
    "\n",
    "worker_df['petal.length'] = pd.to_datetime(worker_df['petal.length'])\n",
    "\n",
    "print(worker_df.info())\n",
    "\n",
    "print(f\"Min Date: {worker_df['petal.length'].min()}\")\n",
    "print(f\"Max Date: {worker_df['petal.length'].max()}\")"
   ]
  },
  {
   "cell_type": "markdown",
   "id": "fa317a00",
   "metadata": {},
   "source": [
    "- You lose the ability to see what is happening with each step."
   ]
  },
  {
   "cell_type": "code",
   "execution_count": 9,
   "id": "56d55cbd",
   "metadata": {},
   "outputs": [
    {
     "data": {
      "text/html": [
       "<div>\n",
       "<style scoped>\n",
       "    .dataframe tbody tr th:only-of-type {\n",
       "        vertical-align: middle;\n",
       "    }\n",
       "\n",
       "    .dataframe tbody tr th {\n",
       "        vertical-align: top;\n",
       "    }\n",
       "\n",
       "    .dataframe thead th {\n",
       "        text-align: right;\n",
       "    }\n",
       "</style>\n",
       "<table border=\"1\" class=\"dataframe\">\n",
       "  <thead>\n",
       "    <tr style=\"text-align: right;\">\n",
       "      <th></th>\n",
       "      <th>sepal.length</th>\n",
       "      <th>sepal.width</th>\n",
       "      <th>petal.length</th>\n",
       "      <th>petal.width</th>\n",
       "      <th>variety</th>\n",
       "    </tr>\n",
       "  </thead>\n",
       "  <tbody>\n",
       "    <tr>\n",
       "      <th>0</th>\n",
       "      <td>5.1</td>\n",
       "      <td>3.5</td>\n",
       "      <td>1.4</td>\n",
       "      <td>0.2</td>\n",
       "      <td>Setosa</td>\n",
       "    </tr>\n",
       "    <tr>\n",
       "      <th>1</th>\n",
       "      <td>4.9</td>\n",
       "      <td>3.0</td>\n",
       "      <td>1.4</td>\n",
       "      <td>0.2</td>\n",
       "      <td>Setosa</td>\n",
       "    </tr>\n",
       "    <tr>\n",
       "      <th>2</th>\n",
       "      <td>4.7</td>\n",
       "      <td>3.2</td>\n",
       "      <td>1.3</td>\n",
       "      <td>0.2</td>\n",
       "      <td>Setosa</td>\n",
       "    </tr>\n",
       "    <tr>\n",
       "      <th>3</th>\n",
       "      <td>4.6</td>\n",
       "      <td>3.1</td>\n",
       "      <td>1.5</td>\n",
       "      <td>0.2</td>\n",
       "      <td>Setosa</td>\n",
       "    </tr>\n",
       "    <tr>\n",
       "      <th>4</th>\n",
       "      <td>5.0</td>\n",
       "      <td>3.6</td>\n",
       "      <td>1.4</td>\n",
       "      <td>0.2</td>\n",
       "      <td>Setosa</td>\n",
       "    </tr>\n",
       "  </tbody>\n",
       "</table>\n",
       "</div>"
      ],
      "text/plain": [
       "   sepal.length  sepal.width  petal.length  petal.width variety\n",
       "0           5.1          3.5           1.4          0.2  Setosa\n",
       "1           4.9          3.0           1.4          0.2  Setosa\n",
       "2           4.7          3.2           1.3          0.2  Setosa\n",
       "3           4.6          3.1           1.5          0.2  Setosa\n",
       "4           5.0          3.6           1.4          0.2  Setosa"
      ]
     },
     "execution_count": 9,
     "metadata": {},
     "output_type": "execute_result"
    }
   ],
   "source": [
    "# Do this\n",
    "# read in worker data \n",
    "file_path = 'iris.csv'\n",
    "worker_df = pd.read_csv(file_path)\n",
    "worker_df.head()"
   ]
  },
  {
   "cell_type": "code",
   "execution_count": 10,
   "id": "54d036f6",
   "metadata": {},
   "outputs": [
    {
     "name": "stdout",
     "output_type": "stream",
     "text": [
      "Unique sepal.length:35\n",
      "Unique sepal.width:23\n",
      "Unique petal.length:43\n",
      "Unique petal.width:22\n",
      "Unique variety:3\n"
     ]
    }
   ],
   "source": [
    "# check number of unique values in the dataset\n",
    "for i in list(worker_df.columns):\n",
    "    print(f'Unique {i}:{worker_df[i].nunique()}')"
   ]
  },
  {
   "cell_type": "code",
   "execution_count": 11,
   "id": "e1b25fbd",
   "metadata": {},
   "outputs": [
    {
     "data": {
      "text/plain": [
       "sepal.length    0\n",
       "sepal.width     0\n",
       "petal.length    0\n",
       "petal.width     0\n",
       "variety         0\n",
       "dtype: int64"
      ]
     },
     "execution_count": 11,
     "metadata": {},
     "output_type": "execute_result"
    }
   ],
   "source": [
    "# checking for null values \n",
    "worker_df.isnull().sum()"
   ]
  },
  {
   "cell_type": "markdown",
   "id": "203fa452",
   "metadata": {},
   "source": [
    "This looks better! The code in each cell completes one task and prints out key information to let us know the code worked as expected and to let us see what the data looks like."
   ]
  }
 ],
 "metadata": {
  "kernelspec": {
   "display_name": "Python 3 (ipykernel)",
   "language": "python",
   "name": "python3"
  },
  "language_info": {
   "codemirror_mode": {
    "name": "ipython",
    "version": 3
   },
   "file_extension": ".py",
   "mimetype": "text/x-python",
   "name": "python",
   "nbconvert_exporter": "python",
   "pygments_lexer": "ipython3",
   "version": "3.9.13"
  }
 },
 "nbformat": 4,
 "nbformat_minor": 5
}
