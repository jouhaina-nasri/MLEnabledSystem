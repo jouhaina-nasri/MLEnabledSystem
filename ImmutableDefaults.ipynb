{
 "cells": [
  {
   "cell_type": "markdown",
   "id": "e2deacbe",
   "metadata": {},
   "source": [
    "# Avoid Using Mutable Defaults"
   ]
  },
  {
   "cell_type": "markdown",
   "id": "da6985e2",
   "metadata": {},
   "source": [
    "- Using mutable defaults can cause unexpected behavior, as changes to the object can persist across multiple function calls, leading to bugs.\n",
    "- To avoid these issues, it is recommended to use immutable objects or None as default arguments instead of mutable defaults."
   ]
  },
  {
   "cell_type": "code",
   "execution_count": 12,
   "id": "08f37ccc",
   "metadata": {},
   "outputs": [
    {
     "data": {
      "text/plain": [
       "[1]"
      ]
     },
     "execution_count": 12,
     "metadata": {},
     "output_type": "execute_result"
    }
   ],
   "source": [
    "# Instead of this\n",
    "def my_function(i, my_list=[]):\n",
    "    my_list.append(i)\n",
    "    return my_list\n",
    "my_function(1)"
   ]
  },
  {
   "cell_type": "code",
   "execution_count": 13,
   "id": "e3bd1313",
   "metadata": {},
   "outputs": [
    {
     "data": {
      "text/plain": [
       "[1, 2]"
      ]
     },
     "execution_count": 13,
     "metadata": {},
     "output_type": "execute_result"
    }
   ],
   "source": [
    "my_function(2)"
   ]
  },
  {
   "cell_type": "code",
   "execution_count": 14,
   "id": "5d4c8ce6",
   "metadata": {},
   "outputs": [
    {
     "data": {
      "text/plain": [
       "[1, 2, 3]"
      ]
     },
     "execution_count": 14,
     "metadata": {},
     "output_type": "execute_result"
    }
   ],
   "source": [
    "my_function(3)"
   ]
  },
  {
   "cell_type": "code",
   "execution_count": 15,
   "id": "6a2b13f8",
   "metadata": {},
   "outputs": [],
   "source": [
    "# Do this\n",
    "def my_function(i, my_list=None):\n",
    "    if my_list is None: \n",
    "        my_list = []\n",
    "    my_list.append(i)\n",
    "    return my_list"
   ]
  },
  {
   "cell_type": "code",
   "execution_count": 16,
   "id": "155c8c36",
   "metadata": {},
   "outputs": [
    {
     "data": {
      "text/plain": [
       "[1]"
      ]
     },
     "execution_count": 16,
     "metadata": {},
     "output_type": "execute_result"
    }
   ],
   "source": [
    "my_function(1)"
   ]
  },
  {
   "cell_type": "code",
   "execution_count": 17,
   "id": "c33735be",
   "metadata": {},
   "outputs": [
    {
     "data": {
      "text/plain": [
       "[2]"
      ]
     },
     "execution_count": 17,
     "metadata": {},
     "output_type": "execute_result"
    }
   ],
   "source": [
    "my_function(2)"
   ]
  },
  {
   "cell_type": "code",
   "execution_count": 18,
   "id": "d95e972d",
   "metadata": {},
   "outputs": [
    {
     "data": {
      "text/plain": [
       "[3]"
      ]
     },
     "execution_count": 18,
     "metadata": {},
     "output_type": "execute_result"
    }
   ],
   "source": [
    "my_function(3)"
   ]
  }
 ],
 "metadata": {
  "kernelspec": {
   "display_name": "Python 3 (ipykernel)",
   "language": "python",
   "name": "python3"
  },
  "language_info": {
   "codemirror_mode": {
    "name": "ipython",
    "version": 3
   },
   "file_extension": ".py",
   "mimetype": "text/x-python",
   "name": "python",
   "nbconvert_exporter": "python",
   "pygments_lexer": "ipython3",
   "version": "3.9.13"
  }
 },
 "nbformat": 4,
 "nbformat_minor": 5
}
