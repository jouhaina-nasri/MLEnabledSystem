{
 "cells": [
  {
   "cell_type": "markdown",
   "id": "f70c7c6e",
   "metadata": {},
   "source": [
    "# Avoid Duplication in Your Code"
   ]
  },
  {
   "cell_type": "markdown",
   "id": "90e31247",
   "metadata": {},
   "source": [
    "While writing code, we should avoid duplication because:\n",
    "- It is redundant\n",
    "- If we make a change to one piece of code, we need to remember to make the same change to another piece of code. \n",
    "Otherwise, we will introduce bugs into our code."
   ]
  },
  {
   "cell_type": "code",
   "execution_count": 2,
   "id": "caeea3db",
   "metadata": {},
   "outputs": [],
   "source": [
    "import pandas as pd \n",
    "from datetime import date"
   ]
  },
  {
   "cell_type": "code",
   "execution_count": 3,
   "id": "dbb43287",
   "metadata": {},
   "outputs": [],
   "source": [
    "df = pd.DataFrame({'date': [date(2021, 2, 8), date(2021, 2, 9), date(2021, 2, 10)],\n",
    "                   'val1': [1,2,3], 'val2': [0,1,0]})\n",
    "X, y = df.iloc[:, :1], df.iloc[:, 2]"
   ]
  },
  {
   "cell_type": "code",
   "execution_count": 4,
   "id": "39ee3c50",
   "metadata": {},
   "outputs": [],
   "source": [
    "# Instead of this\n",
    "subset_X = X[X['date'] > date(2021, 2, 8)]\n",
    "subset_y = y[X['date'] > date(2021, 2, 8)]"
   ]
  },
  {
   "cell_type": "code",
   "execution_count": 5,
   "id": "c2ac19bb",
   "metadata": {},
   "outputs": [],
   "source": [
    "# Do this\n",
    "filt = df['date'] > date(2021, 2, 8)\n",
    "subset_X = X[filt]\n",
    "subset_y = y[filt]"
   ]
  },
  {
   "cell_type": "markdown",
   "id": "02cc7b19",
   "metadata": {},
   "source": [
    "In the code below, we use the filter X['date'] > date(2021, 2, 8) twice. To avoid duplication, we can assign the filter to a variable, then use that variable to filter other arrays."
   ]
  }
 ],
 "metadata": {
  "kernelspec": {
   "display_name": "Python 3 (ipykernel)",
   "language": "python",
   "name": "python3"
  },
  "language_info": {
   "codemirror_mode": {
    "name": "ipython",
    "version": 3
   },
   "file_extension": ".py",
   "mimetype": "text/x-python",
   "name": "python",
   "nbconvert_exporter": "python",
   "pygments_lexer": "ipython3",
   "version": "3.9.13"
  }
 },
 "nbformat": 4,
 "nbformat_minor": 5
}
