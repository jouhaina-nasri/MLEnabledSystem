{
 "cells": [
  {
   "cell_type": "markdown",
   "id": "0b1e0104",
   "metadata": {},
   "source": [
    "# Avoid Using Magic Numbers"
   ]
  },
  {
   "cell_type": "markdown",
   "id": "7029820b",
   "metadata": {},
   "source": [
    "- \"Magic numbers\" are hard-coded numerical values used in code without explanation or context, which can make the code difficult to read and understand.\n",
    "- Using constants with meaningful names in place of magic numbers can improve the readability, maintainability, and reusability of the code, as well as make it easier to modify in the future."
   ]
  },
  {
   "cell_type": "code",
   "execution_count": 1,
   "id": "a3d19ef6",
   "metadata": {},
   "outputs": [],
   "source": [
    "# Instead of this\n",
    "# Bad practice: using hard-coded values without explanation\n",
    "def train_model(x_train, y_train):\n",
    "    model = LinearRegression()\n",
    "    model.fit(x_train, y_train, epochs=100, learning_rate=0.001)\n",
    "    return model"
   ]
  },
  {
   "cell_type": "code",
   "execution_count": 2,
   "id": "7d6d9997",
   "metadata": {},
   "outputs": [],
   "source": [
    "# Do this\n",
    "# Good practice: using variables with descriptive names and comments\n",
    "def train_model(x_train, y_train):\n",
    "    n_epochs = 100  # number of epochs for training\n",
    "    lr = 0.001      # learning rate for gradient descent\n",
    "    model = LinearRegression()\n",
    "    model.fit(x_train, y_train, epochs=n_epochs, learning_rate=lr)\n",
    "    return model"
   ]
  }
 ],
 "metadata": {
  "kernelspec": {
   "display_name": "Python 3 (ipykernel)",
   "language": "python",
   "name": "python3"
  },
  "language_info": {
   "codemirror_mode": {
    "name": "ipython",
    "version": 3
   },
   "file_extension": ".py",
   "mimetype": "text/x-python",
   "name": "python",
   "nbconvert_exporter": "python",
   "pygments_lexer": "ipython3",
   "version": "3.9.13"
  }
 },
 "nbformat": 4,
 "nbformat_minor": 5
}
