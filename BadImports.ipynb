{
 "cells": [
  {
   "cell_type": "markdown",
   "id": "bdafa489",
   "metadata": {},
   "source": [
    "# Avoid using import *"
   ]
  },
  {
   "cell_type": "markdown",
   "id": "aa0cca0f",
   "metadata": {},
   "source": [
    "- \"import *\" can cause inefficiencies when importing large modules.\n",
    "- \"import *\" can also lead to naming conflicts and make it unclear which objects are being imported.\n",
    "- It's better to import only the specific functions or classes that you need, which can make the code more readable and prevent conflicts."
   ]
  },
  {
   "cell_type": "code",
   "execution_count": 1,
   "id": "802888c6",
   "metadata": {},
   "outputs": [
    {
     "name": "stdout",
     "output_type": "stream",
     "text": [
      "2\n",
      "3\n",
      "3.141592653589793\n"
     ]
    }
   ],
   "source": [
    "# Instead of this\n",
    "from math import *\n",
    "print(floor(2.4))\n",
    "print(ceil(2.4))\n",
    "print(pi)"
   ]
  },
  {
   "cell_type": "code",
   "execution_count": 1,
   "id": "685b2eee",
   "metadata": {},
   "outputs": [],
   "source": [
    "# Do this\n",
    "import math\n",
    "from math import pi"
   ]
  },
  {
   "cell_type": "code",
   "execution_count": 2,
   "id": "a99a9e34",
   "metadata": {},
   "outputs": [
    {
     "name": "stdout",
     "output_type": "stream",
     "text": [
      "2\n"
     ]
    }
   ],
   "source": [
    "print(math.floor(2.4))"
   ]
  },
  {
   "cell_type": "code",
   "execution_count": 3,
   "id": "bd1b3fb9",
   "metadata": {},
   "outputs": [
    {
     "name": "stdout",
     "output_type": "stream",
     "text": [
      "3\n"
     ]
    }
   ],
   "source": [
    "print(math.ceil(2.4))"
   ]
  },
  {
   "cell_type": "code",
   "execution_count": 4,
   "id": "9ca71e2a",
   "metadata": {},
   "outputs": [
    {
     "name": "stdout",
     "output_type": "stream",
     "text": [
      "3.141592653589793\n"
     ]
    }
   ],
   "source": [
    "print(pi)"
   ]
  },
  {
   "cell_type": "markdown",
   "id": "870a1a86",
   "metadata": {},
   "source": [
    "# Avoid importing unnecessary modules"
   ]
  },
  {
   "cell_type": "markdown",
   "id": "b2c0762a",
   "metadata": {},
   "source": [
    "- Importing modules that are not used in the code can slow down the performance and make it harder to read and maintain."
   ]
  },
  {
   "cell_type": "code",
   "execution_count": 3,
   "id": "56ac2adb",
   "metadata": {},
   "outputs": [],
   "source": [
    "# Instead of this\n",
    "import time\n",
    "import os\n",
    "\n",
    "def my_function():\n",
    "    print(\"Hello, world!\")"
   ]
  },
  {
   "cell_type": "markdown",
   "id": "875f42ed",
   "metadata": {},
   "source": [
    "- In the above code, the \"time\" and \"os\" modules are imported, but they are not used in the code. This can slow down the performance and make the code harder to read and maintain."
   ]
  },
  {
   "cell_type": "code",
   "execution_count": null,
   "id": "cb3fb326",
   "metadata": {},
   "outputs": [],
   "source": [
    "# Do this\n",
    "def my_function():\n",
    "    print(\"Hello, world!\")"
   ]
  },
  {
   "cell_type": "markdown",
   "id": "6c0d5308",
   "metadata": {},
   "source": [
    "# Avoid Importing the same module multiple times"
   ]
  },
  {
   "cell_type": "markdown",
   "id": "749c02cb",
   "metadata": {},
   "source": [
    "- This can create unnecessary overhead and lead to naming conflicts."
   ]
  },
  {
   "cell_type": "code",
   "execution_count": 5,
   "id": "081dadba",
   "metadata": {},
   "outputs": [],
   "source": [
    "# Instead of this\n",
    "import math\n",
    "\n",
    "def calculate_square_root(num):\n",
    "    return math.sqrt(num)\n",
    "\n",
    "def calculate_hypotenuse(a, b):\n",
    "    import math\n",
    "    return math.sqrt(a**2 + b**2)"
   ]
  },
  {
   "cell_type": "markdown",
   "id": "9a5c5a9e",
   "metadata": {},
   "source": [
    "- In the above code, the \"math\" module is imported twice, which can create unnecessary overhead and lead to naming conflicts."
   ]
  },
  {
   "cell_type": "code",
   "execution_count": 12,
   "id": "e9677e42",
   "metadata": {},
   "outputs": [],
   "source": [
    "# Do this\n",
    "import math"
   ]
  },
  {
   "cell_type": "code",
   "execution_count": 13,
   "id": "2cf10d05",
   "metadata": {},
   "outputs": [],
   "source": [
    "def calculate_square_root(num):\n",
    "    return math.sqrt(num)"
   ]
  },
  {
   "cell_type": "code",
   "execution_count": 14,
   "id": "86a51762",
   "metadata": {},
   "outputs": [],
   "source": [
    "def calculate_hypotenuse(a, b):\n",
    "    return math.sqrt(a**2 + b**2)"
   ]
  },
  {
   "cell_type": "markdown",
   "id": "d4b8f99b",
   "metadata": {},
   "source": [
    "# Avoid using imports inside the code"
   ]
  },
  {
   "cell_type": "code",
   "execution_count": 10,
   "id": "149b30b9",
   "metadata": {},
   "outputs": [
    {
     "name": "stdout",
     "output_type": "stream",
     "text": [
      "6\n",
      "   feature1  feature2  feature3  feature4  feature5  target\n",
      "0  0.004757  0.047657  0.892299  0.676306  0.667227       0\n",
      "1  0.409682  0.730426  0.089068  0.730206  0.242604       0\n",
      "2  0.576831  0.438596  0.841419  0.349976  0.505611       0\n",
      "3  0.226978  0.881961  0.700944  0.980359  0.183133       1\n",
      "4  0.179073  0.929898  0.217543  0.660146  0.404116       1\n"
     ]
    }
   ],
   "source": [
    "# Instead of this\n",
    "def foo():\n",
    "    import numpy as np\n",
    "    x = np.array([1, 2, 3])\n",
    "    return x.sum()\n",
    "\n",
    "def bar():\n",
    "    import pandas as pd\n",
    "    df = pd.read_csv('data.csv')\n",
    "    return df.head()\n",
    "\n",
    "print(foo())\n",
    "print(bar())"
   ]
  },
  {
   "cell_type": "code",
   "execution_count": 15,
   "id": "8c3c991c",
   "metadata": {},
   "outputs": [],
   "source": [
    "# Do this\n",
    "import numpy as np\n",
    "import pandas as pd"
   ]
  },
  {
   "cell_type": "code",
   "execution_count": 16,
   "id": "697e06c6",
   "metadata": {},
   "outputs": [],
   "source": [
    "def foo():\n",
    "    x = np.array([1, 2, 3])\n",
    "    return x.sum()"
   ]
  },
  {
   "cell_type": "code",
   "execution_count": 17,
   "id": "3bea0c23",
   "metadata": {},
   "outputs": [],
   "source": [
    "def bar():\n",
    "    df = pd.read_csv('data.csv')\n",
    "    return df.head()"
   ]
  },
  {
   "cell_type": "code",
   "execution_count": 18,
   "id": "33eea308",
   "metadata": {},
   "outputs": [
    {
     "name": "stdout",
     "output_type": "stream",
     "text": [
      "6\n"
     ]
    }
   ],
   "source": [
    "print(foo())"
   ]
  },
  {
   "cell_type": "code",
   "execution_count": 19,
   "id": "82617ea5",
   "metadata": {},
   "outputs": [
    {
     "name": "stdout",
     "output_type": "stream",
     "text": [
      "   feature1  feature2  feature3  feature4  feature5  target\n",
      "0  0.004757  0.047657  0.892299  0.676306  0.667227       0\n",
      "1  0.409682  0.730426  0.089068  0.730206  0.242604       0\n",
      "2  0.576831  0.438596  0.841419  0.349976  0.505611       0\n",
      "3  0.226978  0.881961  0.700944  0.980359  0.183133       1\n",
      "4  0.179073  0.929898  0.217543  0.660146  0.404116       1\n"
     ]
    }
   ],
   "source": [
    "print(bar())"
   ]
  }
 ],
 "metadata": {
  "kernelspec": {
   "display_name": "Python 3 (ipykernel)",
   "language": "python",
   "name": "python3"
  },
  "language_info": {
   "codemirror_mode": {
    "name": "ipython",
    "version": 3
   },
   "file_extension": ".py",
   "mimetype": "text/x-python",
   "name": "python",
   "nbconvert_exporter": "python",
   "pygments_lexer": "ipython3",
   "version": "3.9.13"
  }
 },
 "nbformat": 4,
 "nbformat_minor": 5
}
