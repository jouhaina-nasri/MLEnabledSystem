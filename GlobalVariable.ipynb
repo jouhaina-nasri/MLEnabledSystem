{
 "cells": [
  {
   "cell_type": "markdown",
   "id": "3a35b2a4",
   "metadata": {},
   "source": [
    "# Avoid Using Global Variables"
   ]
  },
  {
   "cell_type": "markdown",
   "id": "4676bef0",
   "metadata": {},
   "source": [
    "- Global variables are accessible from anywhere in the code and can be modified by any function or module.\n",
    "- Using global variables can lead to unintended consequences, make the code harder to understand and maintain, and can cause bugs that are difficult to diagnose and fix. "
   ]
  },
  {
   "cell_type": "code",
   "execution_count": 4,
   "id": "e04a1b8b",
   "metadata": {},
   "outputs": [
    {
     "name": "stdout",
     "output_type": "stream",
     "text": [
      "10\n",
      "15\n",
      "13\n"
     ]
    }
   ],
   "source": [
    "# Instead of this\n",
    "x = 10  # define a global variable\n",
    "\n",
    "def add_to_x(y):\n",
    "    global x  # access global variable x\n",
    "    x = x + y\n",
    "\n",
    "def subtract_from_x(z):\n",
    "    global x  # access global variable x\n",
    "    x = x - z\n",
    "\n",
    "print(x) \n",
    "add_to_x(5)  # add 5 to x\n",
    "print(x)  \n",
    "subtract_from_x(2)  # subtract 2 from x\n",
    "print(x)  "
   ]
  },
  {
   "cell_type": "code",
   "execution_count": 5,
   "id": "f02cc8c4",
   "metadata": {},
   "outputs": [],
   "source": [
    "# Do this\n",
    "class MyClass:\n",
    "    def __init__(self):\n",
    "        self.x = 10\n",
    "    \n",
    "    def add_to_x(self, y):\n",
    "        self.x += y\n",
    "    \n",
    "    def subtract_from_x(self, z):\n",
    "        self.x -= z"
   ]
  },
  {
   "cell_type": "code",
   "execution_count": 6,
   "id": "ef76cec0",
   "metadata": {},
   "outputs": [
    {
     "name": "stdout",
     "output_type": "stream",
     "text": [
      "10\n"
     ]
    }
   ],
   "source": [
    "# use class\n",
    "my_object = MyClass()\n",
    "print(my_object.x)  "
   ]
  },
  {
   "cell_type": "code",
   "execution_count": 7,
   "id": "097c4a90",
   "metadata": {},
   "outputs": [
    {
     "name": "stdout",
     "output_type": "stream",
     "text": [
      "15\n"
     ]
    }
   ],
   "source": [
    "my_object.add_to_x(5)  # add 5 to x\n",
    "print(my_object.x)  "
   ]
  },
  {
   "cell_type": "code",
   "execution_count": 8,
   "id": "c3266dc3",
   "metadata": {},
   "outputs": [
    {
     "name": "stdout",
     "output_type": "stream",
     "text": [
      "13\n"
     ]
    }
   ],
   "source": [
    "my_object.subtract_from_x(2)  # subtract 2 from x\n",
    "print(my_object.x)  "
   ]
  }
 ],
 "metadata": {
  "kernelspec": {
   "display_name": "Python 3 (ipykernel)",
   "language": "python",
   "name": "python3"
  },
  "language_info": {
   "codemirror_mode": {
    "name": "ipython",
    "version": 3
   },
   "file_extension": ".py",
   "mimetype": "text/x-python",
   "name": "python",
   "nbconvert_exporter": "python",
   "pygments_lexer": "ipython3",
   "version": "3.9.13"
  }
 },
 "nbformat": 4,
 "nbformat_minor": 5
}
