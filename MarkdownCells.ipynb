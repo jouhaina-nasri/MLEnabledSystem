{
 "cells": [
  {
   "cell_type": "markdown",
   "id": "7de7264c",
   "metadata": {},
   "source": [
    "# Avoid Not Taking Advantage of Markdown Cells"
   ]
  },
  {
   "cell_type": "markdown",
   "id": "dc0a6914",
   "metadata": {},
   "source": [
    "- Markdown cells can improve code readability and maintainability by providing an overview, purpose, and context for each step.\n",
    "- Markdown cells can enhance collaboration and knowledge sharing among team developers."
   ]
  },
  {
   "cell_type": "code",
   "execution_count": 10,
   "id": "6161f011",
   "metadata": {},
   "outputs": [
    {
     "name": "stdout",
     "output_type": "stream",
     "text": [
      "Average score of each student:\n",
      "0    89.000000\n",
      "1    84.333333\n",
      "2    90.000000\n",
      "3    78.000000\n",
      "Name: average_score, dtype: float64\n"
     ]
    }
   ],
   "source": [
    "#Insead of this\n",
    "# This code calculates the average score of a set of students\n",
    "\n",
    "# Import necessary libraries\n",
    "import pandas as pd\n",
    "\n",
    "# Read data from a CSV file\n",
    "data = pd.read_csv('student_scores.csv')\n",
    "\n",
    "# Calculate the average score of each student\n",
    "data['average_score'] = (data['math_score'] + data['english_score'] + data['science_score']) / 3\n",
    "\n",
    "# Display the average score of each student\n",
    "print('Average score of each student:')\n",
    "print(data['average_score'])"
   ]
  },
  {
   "cell_type": "markdown",
   "id": "c9fb319f",
   "metadata": {},
   "source": [
    "We have added comments to explain each step of the code, but we can make it more readable and understandable by using Markdown cells to provide an overview of the code, explain the purpose of each step, and provide any relevant context or background information."
   ]
  },
  {
   "cell_type": "code",
   "execution_count": 13,
   "id": "09df038b",
   "metadata": {},
   "outputs": [],
   "source": [
    "# Do this"
   ]
  },
  {
   "cell_type": "markdown",
   "id": "e65b3854",
   "metadata": {},
   "source": [
    "## Calculating the Average Score of a Set of Students\n",
    "\n",
    "### Overview\n",
    "\n",
    "This Jupyter Notebook calculates the average score of a set of students using their scores in math, English, and science. We will use the Pandas library to read the data from a CSV file, calculate the average score of each student, and display the results."
   ]
  },
  {
   "cell_type": "markdown",
   "id": "fa4387b4",
   "metadata": {},
   "source": [
    "### Step 1: Importing Libraries\n",
    "\n",
    "We start by importing the necessary libraries. In this case, we need the Pandas library to read the data from the CSV file."
   ]
  },
  {
   "cell_type": "code",
   "execution_count": 6,
   "id": "3869c710",
   "metadata": {},
   "outputs": [],
   "source": [
    "import pandas as pd"
   ]
  },
  {
   "cell_type": "markdown",
   "id": "5a299392",
   "metadata": {},
   "source": [
    "### Step 2: Reading Data from a CSV File\n",
    "\n",
    "We read the data from a CSV file called 'students.csv' using the `pd.read_csv()` function from the Pandas library. This function creates a DataFrame that we can use to analyze and manipulate the data."
   ]
  },
  {
   "cell_type": "code",
   "execution_count": 7,
   "id": "73c442e0",
   "metadata": {},
   "outputs": [],
   "source": [
    "data = pd.read_csv('student_scores.csv')"
   ]
  },
  {
   "cell_type": "markdown",
   "id": "0eb71115",
   "metadata": {},
   "source": [
    "### Step 3: Calculating the Average Score of Each Student\n",
    "\n",
    "We calculate the average score of each student by adding up their scores in math, English, and science, and dividing the total by 3. We add this value as a new column to the DataFrame using the code `data['average_score'] = (data['math_score'] + data['english_score'] + data['science_score']) / 3`."
   ]
  },
  {
   "cell_type": "code",
   "execution_count": 8,
   "id": "4d6121c8",
   "metadata": {},
   "outputs": [],
   "source": [
    "data['average_score'] = (data['math_score'] + data['english_score'] + data['science_score']) / 3"
   ]
  },
  {
   "cell_type": "markdown",
   "id": "1587b7d2",
   "metadata": {},
   "source": [
    "### Step 4: Displaying the Results\n",
    "\n",
    "Finally, we display the average score of each student using the `print()` function."
   ]
  },
  {
   "cell_type": "code",
   "execution_count": 9,
   "id": "d3b3ffc7",
   "metadata": {},
   "outputs": [
    {
     "name": "stdout",
     "output_type": "stream",
     "text": [
      "Average score of each student:\n",
      "0    89.000000\n",
      "1    84.333333\n",
      "2    90.000000\n",
      "3    78.000000\n",
      "Name: average_score, dtype: float64\n"
     ]
    }
   ],
   "source": [
    "print('Average score of each student:')\n",
    "print(data['average_score'])"
   ]
  }
 ],
 "metadata": {
  "kernelspec": {
   "display_name": "Python 3 (ipykernel)",
   "language": "python",
   "name": "python3"
  },
  "language_info": {
   "codemirror_mode": {
    "name": "ipython",
    "version": 3
   },
   "file_extension": ".py",
   "mimetype": "text/x-python",
   "name": "python",
   "nbconvert_exporter": "python",
   "pygments_lexer": "ipython3",
   "version": "3.9.13"
  }
 },
 "nbformat": 4,
 "nbformat_minor": 5
}
