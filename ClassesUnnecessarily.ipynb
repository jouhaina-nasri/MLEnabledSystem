{
 "cells": [
  {
   "cell_type": "markdown",
   "id": "7ff0beeb",
   "metadata": {},
   "source": [
    "# Avoid Using Classes That Should Just Be Functions or Modules"
   ]
  },
  {
   "cell_type": "markdown",
   "id": "4bdee155",
   "metadata": {},
   "source": [
    "- Using classes unnecessarily can make the code harder to read, understand, and maintain, and can lead to unnecessary complexity and inefficiency.  \n",
    "- It is recommended to use functions or modules when they are sufficient to solve the problem."
   ]
  },
  {
   "cell_type": "code",
   "execution_count": 3,
   "id": "a623a355",
   "metadata": {},
   "outputs": [
    {
     "name": "stdout",
     "output_type": "stream",
     "text": [
      "You rolled a 5\n"
     ]
    }
   ],
   "source": [
    "# Instead of this\n",
    "import random\n",
    "class Dice:\n",
    "    def __init__(self, sides=6):\n",
    "        self.sides = sides\n",
    "    def roll(self):\n",
    "        return random.randint(1, self.sides)\n",
    "\n",
    "d = Dice()\n",
    "print('You rolled a', d.roll())"
   ]
  },
  {
   "cell_type": "code",
   "execution_count": 4,
   "id": "919d6e29",
   "metadata": {},
   "outputs": [
    {
     "name": "stdout",
     "output_type": "stream",
     "text": [
      "You rolled a 6\n"
     ]
    }
   ],
   "source": [
    "# Do this\n",
    "print('You rolled a', random.randint(1, 6))"
   ]
  }
 ],
 "metadata": {
  "kernelspec": {
   "display_name": "Python 3 (ipykernel)",
   "language": "python",
   "name": "python3"
  },
  "language_info": {
   "codemirror_mode": {
    "name": "ipython",
    "version": 3
   },
   "file_extension": ".py",
   "mimetype": "text/x-python",
   "name": "python",
   "nbconvert_exporter": "python",
   "pygments_lexer": "ipython3",
   "version": "3.9.13"
  }
 },
 "nbformat": 4,
 "nbformat_minor": 5
}
