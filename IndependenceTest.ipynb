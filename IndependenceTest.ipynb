{
 "cells": [
  {
   "cell_type": "markdown",
   "id": "8725826d",
   "metadata": {},
   "source": [
    "# Avoid Dependent Test Data"
   ]
  },
  {
   "cell_type": "markdown",
   "id": "c8a1d23b",
   "metadata": {},
   "source": [
    "- Its refers to the use of the same data for both training and testing.\n",
    "- This can lead to an overestimation of the performance of the model and hinder its ability to generalize well to new data. \n",
    "- To avoid this, it is important to use independent test data for evaluating the model's performance."
   ]
  },
  {
   "cell_type": "code",
   "execution_count": 2,
   "id": "fe89fddd",
   "metadata": {},
   "outputs": [
    {
     "name": "stdout",
     "output_type": "stream",
     "text": [
      "0.026542154821410868\n"
     ]
    }
   ],
   "source": [
    "# Instead of this\n",
    "import pandas as pd\n",
    "from sklearn.linear_model import LinearRegression\n",
    "\n",
    "def load_data():\n",
    "    data = pd.read_csv('data.csv')\n",
    "    X = data.drop('target', axis=1)\n",
    "    y = data['target']\n",
    "    return X, y\n",
    "\n",
    "# Load data\n",
    "X, y = load_data()\n",
    "\n",
    "# Create an instance of the LinearRegression class\n",
    "model = LinearRegression()\n",
    "\n",
    "# Use the same data for both training and testing\n",
    "model.fit(X, y)\n",
    "score = model.score(X, y)\n",
    "print(score)"
   ]
  },
  {
   "cell_type": "code",
   "execution_count": 6,
   "id": "7ae0fc32",
   "metadata": {},
   "outputs": [
    {
     "name": "stdout",
     "output_type": "stream",
     "text": [
      "-0.32888421842159254\n"
     ]
    }
   ],
   "source": [
    "#Do This\n",
    "import pandas as pd\n",
    "from sklearn.linear_model import LinearRegression\n",
    "from sklearn.model_selection import train_test_split\n",
    "\n",
    "def load_data():\n",
    "    data = pd.read_csv('data.csv')\n",
    "    X = data.drop('target', axis=1)\n",
    "    y = data['target']\n",
    "    return X, y\n",
    "\n",
    "# Load data\n",
    "X, y = load_data()\n",
    "\n",
    "# Split data into training and testing sets\n",
    "X_train, X_test, y_train, y_test = train_test_split(X, y, test_size=0.2, random_state=42)\n",
    "\n",
    "# Create an instance of the LinearRegression class\n",
    "model = LinearRegression()\n",
    "\n",
    "# Train the model on the independent training data\n",
    "model.fit(X_train, y_train)\n",
    "\n",
    "# Evaluate the model on the independent testing data\n",
    "score = model.score(X_test, y_test)\n",
    "print(score)"
   ]
  }
 ],
 "metadata": {
  "kernelspec": {
   "display_name": "Python 3 (ipykernel)",
   "language": "python",
   "name": "python3"
  },
  "language_info": {
   "codemirror_mode": {
    "name": "ipython",
    "version": 3
   },
   "file_extension": ".py",
   "mimetype": "text/x-python",
   "name": "python",
   "nbconvert_exporter": "python",
   "pygments_lexer": "ipython3",
   "version": "3.9.13"
  }
 },
 "nbformat": 4,
 "nbformat_minor": 5
}
