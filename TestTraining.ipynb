{
 "cells": [
  {
   "cell_type": "markdown",
   "id": "8f388284",
   "metadata": {},
   "source": [
    "# Avoid Including Test Data in the Training Data"
   ]
  },
  {
   "cell_type": "markdown",
   "id": "f3fb0da5",
   "metadata": {},
   "source": [
    "- Test-training separation prevents model overfitting and improves generalization.\n",
    "- It is crucial for ensuring model accuracy and reliability in ML-enabled systems."
   ]
  },
  {
   "cell_type": "code",
   "execution_count": 5,
   "id": "9b23ad01",
   "metadata": {},
   "outputs": [
    {
     "name": "stdout",
     "output_type": "stream",
     "text": [
      "Model score: -0.01289618176228724\n"
     ]
    }
   ],
   "source": [
    "# Instead of this\n",
    "import pandas as pd\n",
    "from sklearn.model_selection import train_test_split\n",
    "from sklearn.linear_model import LinearRegression, Ridge\n",
    "\n",
    "def load_data():\n",
    "    data = pd.read_csv('data.csv')\n",
    "    X = data.drop('target', axis=1)\n",
    "    y = data['target']\n",
    "    return X, y\n",
    "\n",
    "# Load data\n",
    "X, y = load_data()\n",
    "\n",
    "# Split data into train and test sets, including test data in the training process\n",
    "X_train, X_test, y_train, y_test = train_test_split(X, y, test_size=0.3, random_state=42)\n",
    "X_train = pd.concat([X_train, X_test])\n",
    "y_train = pd.concat([y_train, y_test])\n",
    "\n",
    "# Train model\n",
    "lr = LinearRegression()\n",
    "lr.fit(X_train, y_train)\n",
    "\n",
    "# Evaluate model on test set\n",
    "lr_score = lr.score(X_test, y_test)\n",
    "print(f\"Model score: {lr_score}\")"
   ]
  },
  {
   "cell_type": "markdown",
   "id": "b51a9b5c",
   "metadata": {},
   "source": [
    "Line 17 and 18 describe the problem of including test data in training data."
   ]
  },
  {
   "cell_type": "code",
   "execution_count": 2,
   "id": "c779fbd9",
   "metadata": {},
   "outputs": [
    {
     "name": "stdout",
     "output_type": "stream",
     "text": [
      "Model score: -0.14471621073493934\n"
     ]
    }
   ],
   "source": [
    "import pandas as pd\n",
    "from sklearn.model_selection import train_test_split\n",
    "from sklearn.linear_model import LinearRegression\n",
    "\n",
    "def load_data():\n",
    "    data = pd.read_csv('data.csv')\n",
    "    X = data.drop('target', axis=1)\n",
    "    y = data['target']\n",
    "    return X, y\n",
    "\n",
    "\n",
    "# Load data\n",
    "X, y = load_data()\n",
    "\n",
    "# Split the data into training and testing sets\n",
    "X_train, X_test, y_train, y_test = train_test_split(X, y, test_size=0.3, random_state=42)\n",
    "\n",
    "# Train the model using the training data\n",
    "model = LinearRegression()\n",
    "model.fit(X_train, y_train)\n",
    "\n",
    "# Evaluate the model using the testing data\n",
    "score = model.score(X_test, y_test)\n",
    "print(f\"Model score: {score}\")"
   ]
  }
 ],
 "metadata": {
  "kernelspec": {
   "display_name": "Python 3 (ipykernel)",
   "language": "python",
   "name": "python3"
  },
  "language_info": {
   "codemirror_mode": {
    "name": "ipython",
    "version": 3
   },
   "file_extension": ".py",
   "mimetype": "text/x-python",
   "name": "python",
   "nbconvert_exporter": "python",
   "pygments_lexer": "ipython3",
   "version": "3.9.13"
  }
 },
 "nbformat": 4,
 "nbformat_minor": 5
}
