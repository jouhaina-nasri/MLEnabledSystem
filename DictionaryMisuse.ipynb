{
 "cells": [
  {
   "cell_type": "markdown",
   "id": "ebe32ec6",
   "metadata": {},
   "source": [
    "# Avoid Incorrect Usage of the .keys() and .values() Methods with Dictionaries"
   ]
  },
  {
   "cell_type": "markdown",
   "id": "427f44d0",
   "metadata": {},
   "source": [
    "- It is important to avoid using the .keys() and .values() methods in a loop that iterates over the dictionary repeatedly.\n",
    "- It is recommended to use the dict.items() method, which returns a list of (key, value) tuples, and then iterate over this list to access the keys and values.\n",
    "- This approach avoids unnecessary calls to the .keys() and .values() methods, which can cause performance issues when working with large dictionaries."
   ]
  },
  {
   "cell_type": "code",
   "execution_count": 2,
   "id": "cd1368ef",
   "metadata": {},
   "outputs": [
    {
     "data": {
      "text/plain": [
       "dict_keys(['France', 'Spain', 'Portugal'])"
      ]
     },
     "execution_count": 2,
     "metadata": {},
     "output_type": "execute_result"
    }
   ],
   "source": [
    "dict_countries = {'France': 67.4, 'Spain': 47.3, 'Portugal': 10.3}\n",
    "dict_countries.keys()"
   ]
  },
  {
   "cell_type": "code",
   "execution_count": 3,
   "id": "b7f5be9d",
   "metadata": {},
   "outputs": [
    {
     "data": {
      "text/plain": [
       "dict_values([67.4, 47.3, 10.3])"
      ]
     },
     "execution_count": 3,
     "metadata": {},
     "output_type": "execute_result"
    }
   ],
   "source": [
    "dict_countries.values()"
   ]
  },
  {
   "cell_type": "markdown",
   "id": "563d49dc",
   "metadata": {},
   "source": [
    "### Keys"
   ]
  },
  {
   "cell_type": "code",
   "execution_count": 6,
   "id": "04ac1404",
   "metadata": {},
   "outputs": [
    {
     "name": "stdout",
     "output_type": "stream",
     "text": [
      "France\n",
      "Spain\n",
      "Portugal\n"
     ]
    }
   ],
   "source": [
    "# Instead of this\n",
    "for key in dict_countries.keys():\n",
    "    print(key)"
   ]
  },
  {
   "cell_type": "code",
   "execution_count": 7,
   "id": "229b1f04",
   "metadata": {},
   "outputs": [
    {
     "name": "stdout",
     "output_type": "stream",
     "text": [
      "France\n",
      "Spain\n",
      "Portugal\n"
     ]
    }
   ],
   "source": [
    "# Do this\n",
    "for key in dict_countries:\n",
    "    print(key)"
   ]
  },
  {
   "cell_type": "markdown",
   "id": "8e7c6b09",
   "metadata": {},
   "source": [
    "### Items"
   ]
  },
  {
   "cell_type": "code",
   "execution_count": 8,
   "id": "47f16fcf",
   "metadata": {},
   "outputs": [
    {
     "name": "stdout",
     "output_type": "stream",
     "text": [
      "67.4\n",
      "47.3\n",
      "10.3\n"
     ]
    }
   ],
   "source": [
    "# Instead of this\n",
    "for key in dict_countries:\n",
    "    print(dict_countries[key])"
   ]
  },
  {
   "cell_type": "code",
   "execution_count": 9,
   "id": "db533bd2",
   "metadata": {},
   "outputs": [
    {
     "name": "stdout",
     "output_type": "stream",
     "text": [
      "France\n",
      "67.4\n",
      "Spain\n",
      "47.3\n",
      "Portugal\n",
      "10.3\n"
     ]
    }
   ],
   "source": [
    "# Do this\n",
    "for key, value in dict_countries.items():\n",
    "    print(key)\n",
    "    print(value)"
   ]
  }
 ],
 "metadata": {
  "kernelspec": {
   "display_name": "Python 3 (ipykernel)",
   "language": "python",
   "name": "python3"
  },
  "language_info": {
   "codemirror_mode": {
    "name": "ipython",
    "version": 3
   },
   "file_extension": ".py",
   "mimetype": "text/x-python",
   "name": "python",
   "nbconvert_exporter": "python",
   "pygments_lexer": "ipython3",
   "version": "3.9.13"
  }
 },
 "nbformat": 4,
 "nbformat_minor": 5
}
