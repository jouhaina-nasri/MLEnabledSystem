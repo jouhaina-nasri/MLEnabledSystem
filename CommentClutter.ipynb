{
 "cells": [
  {
   "cell_type": "markdown",
   "id": "0c81cd0a",
   "metadata": {},
   "source": [
    "# Avoid using comments inside a method"
   ]
  },
  {
   "cell_type": "markdown",
   "id": "553ec8ab",
   "metadata": {},
   "source": [
    "- Comments inside a method make quickly the code harder to maintain.\n",
    "- Writing self-explanatory code with descriptive names is better than using comments."
   ]
  },
  {
   "cell_type": "code",
   "execution_count": 1,
   "id": "4e1109c2",
   "metadata": {},
   "outputs": [],
   "source": [
    "# Instead of this\n",
    "def recoverFromGrief():\n",
    "    ## Denial stage\n",
    "    absorbTheBadNews()\n",
    "    setNumbAsProtectiveState()\n",
    "    startToRiseEmotions()\n",
    "    feelSorrow()\n",
    "\n",
    "    ## Anger stage\n",
    "    maskRealEffects()\n",
    "    directAngerToOtherPeople()\n",
    "    blameOthers()\n",
    "    getIrrational()\n",
    "\n",
    "    ## bargaining stage\n",
    "    feelVulnerable()\n",
    "    regret()\n",
    "    askWhyToMyself()\n",
    "    dreamOfAlternativeWhatIfScenarios()\n",
    "    postponeSadness()\n",
    "\n",
    "    ## depression stage\n",
    "    stayQuiet()\n",
    "    getOverwhelmed()\n",
    "    beConfused()\n",
    "\n",
    "    ## acceptance stage\n",
    "    acceptWhatHappened()\n",
    "    lookToTheFuture()\n",
    "    reconstructAndWalktrough()"
   ]
  },
  {
   "cell_type": "code",
   "execution_count": 2,
   "id": "5613d16e",
   "metadata": {},
   "outputs": [],
   "source": [
    "# Do this\n",
    "def recoverFromGrief() :\n",
    "    denialStage()\n",
    "    angerStage()\n",
    "    bargainingStage()\n",
    "    depressionStage()\n",
    "    acceptanceStage()"
   ]
  },
  {
   "cell_type": "code",
   "execution_count": 3,
   "id": "872e0f39",
   "metadata": {},
   "outputs": [],
   "source": [
    "def denialStage() :\n",
    "    absorbTheBadNews()\n",
    "    setNumbAsProtectiveState()\n",
    "    startToRiseEmotions()\n",
    "    feelSorrow()"
   ]
  },
  {
   "cell_type": "code",
   "execution_count": 4,
   "id": "448e632a",
   "metadata": {},
   "outputs": [],
   "source": [
    "def angerStage() :\n",
    "    maskRealEffects()\n",
    "    directAngerToOtherPeople()\n",
    "    blameOthers()\n",
    "    getIrrational()"
   ]
  },
  {
   "cell_type": "code",
   "execution_count": 5,
   "id": "844aab73",
   "metadata": {},
   "outputs": [],
   "source": [
    "def bargainingStage() :\n",
    "    feelVulnerable()\n",
    "    regret()\n",
    "    askWhyToMyself()\n",
    "    dreamOfAlternativeWhatIfScenarios()\n",
    "    postponeSadness()"
   ]
  },
  {
   "cell_type": "code",
   "execution_count": 6,
   "id": "0e42be05",
   "metadata": {},
   "outputs": [],
   "source": [
    "def depressionStage() :\n",
    "    stayQuiet()\n",
    "    getOverwhelmed()\n",
    "    beConfused()"
   ]
  },
  {
   "cell_type": "code",
   "execution_count": 7,
   "id": "855e5a40",
   "metadata": {},
   "outputs": [],
   "source": [
    "def acceptanceStage() :\n",
    "    acceptWhatHappened()\n",
    "    lookToTheFuture()\n",
    "    reconstructAndWalktrough()"
   ]
  }
 ],
 "metadata": {
  "kernelspec": {
   "display_name": "Python 3 (ipykernel)",
   "language": "python",
   "name": "python3"
  },
  "language_info": {
   "codemirror_mode": {
    "name": "ipython",
    "version": 3
   },
   "file_extension": ".py",
   "mimetype": "text/x-python",
   "name": "python",
   "nbconvert_exporter": "python",
   "pygments_lexer": "ipython3",
   "version": "3.9.13"
  }
 },
 "nbformat": 4,
 "nbformat_minor": 5
}
